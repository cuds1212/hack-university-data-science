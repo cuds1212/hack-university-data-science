{
 "cells": [
  {
   "cell_type": "markdown",
   "metadata": {},
   "source": [
    "# Principal Component Analysis (PCA)\n",
    "This file uses latitude and longitude measurements from [Manhattan](http://www.openstreetmap.org/export#map=13/40.7869/-73.9603) to demonstrate how PCA can reduce the dimensionality of a data set. This example is chosen because 2D is easy to visualize, a geographical example is familiar and intuitive, and Manhattan has a particularly regular street grid. "
   ]
  },
  {
   "cell_type": "code",
   "execution_count": null,
   "metadata": {
    "collapsed": true
   },
   "outputs": [],
   "source": [
    "%matplotlib inline\n",
    "import os\n",
    "import pandas as pd\n",
    "import numpy as np\n",
    "from glob import glob\n",
    "from sklearn.decomposition import PCA\n",
    "import xml.etree.ElementTree as ET\n",
    "import matplotlib.pyplot as plt"
   ]
  },
  {
   "cell_type": "markdown",
   "metadata": {},
   "source": [
    "## Scatter Plot Locations of 311 Call Report\n",
    "The file \"311_Service_Requests_from_2010_to_Present.csv\" is exported from [NYC OpenData](https://nycopendata.socrata.com/Social-Services/311-Service-Requests-from-2010-to-Present/erm2-nwe9) for all calls made to 311 from Manhattan on November 9, 2016. A scatter plot ot the locations of all calls shows the shape of the island, which is long and skinny, at an angle compared to the longitude/latitude lines."
   ]
  },
  {
   "cell_type": "code",
   "execution_count": null,
   "metadata": {
    "collapsed": true
   },
   "outputs": [],
   "source": [
    "# Define graph limits for each variable to keep them constant and equal range\n",
    "long_limits = (-74.05, -73.88)\n",
    "lat_limits = (40.7, 40.87)"
   ]
  },
  {
   "cell_type": "code",
   "execution_count": null,
   "metadata": {
    "collapsed": false
   },
   "outputs": [],
   "source": [
    "fig, graphs = plt.subplots(1, 2, figsize=(16, 8), sharex=True, sharey=True)\n",
    "\n",
    "nyc = pd.read_csv(os.path.join(\"NYCservicecalls\",\"311_Service_Requests_from_2010_to_Present.csv\"))\n",
    "nyc.plot(\"Longitude\", \"Latitude\", \"scatter\", color=\"blue\", ax=graphs[0])\n",
    "\n",
    "graphs[0].set_xlabel(\"Longitude\")\n",
    "graphs[0].set_ylabel(\"Latitude\")\n",
    "graphs[0].set_title(\"Locations of NYC 311 Calls on 11/09/16\")\n",
    "graphs[0].set_xlim(*long_limits)\n",
    "graphs[0].set_ylim(*lat_limits)"
   ]
  },
  {
   "cell_type": "code",
   "execution_count": null,
   "metadata": {
    "collapsed": true
   },
   "outputs": [],
   "source": [
    "def readstreetlights(osmfiles):\n",
    "    longlat = []\n",
    "    for f in osmfiles:\n",
    "        etree = ET.parse(f)\n",
    "        root = etree.getroot()\n",
    "        children = [child for child in root]\n",
    "        for c in children:\n",
    "            if c.getchildren():\n",
    "                for cc in c.getchildren():\n",
    "                    if cc.tag == \"tag\":\n",
    "                        if cc.attrib['k'] == \"highway\" and  cc.attrib['v']==\"traffic_signals\":\n",
    "                            longlat.append((c.attrib['lon'], c.attrib['lat']))\n",
    "    return longlat\n",
    "\n",
    "def plotstreetlights(longlat, ax):\n",
    "    ax.scatter(*zip(*longlat), color=\"green\", s=2)\n",
    "    ax.set_xlabel(\"Longitude\")\n",
    "    ax.set_ylabel(\"Latitude\")\n",
    "    ax.set_title(\"Locations of Traffic Lights (Street Grid Proxy)\")\n",
    "    return"
   ]
  },
  {
   "cell_type": "code",
   "execution_count": null,
   "metadata": {
    "collapsed": false
   },
   "outputs": [],
   "source": [
    "files = glob(os.path.join(\"nycmaps\", \"map*.osm\"))\n",
    "streetlights = readstreetlights(files)\n",
    "plotstreetlights(streetlights, graphs[1])\n",
    "fig"
   ]
  },
  {
   "cell_type": "markdown",
   "metadata": {},
   "source": [
    "## Show Distribution along the Two Dimensions\n",
    "Note the distribution of the data points along the two natural dimensions. "
   ]
  },
  {
   "cell_type": "code",
   "execution_count": null,
   "metadata": {
    "collapsed": false
   },
   "outputs": [],
   "source": [
    "fig_hist, graphs_hist = plt.subplots(2, 1)\n",
    "nyc.hist(\"Longitude\", bins=np.arange(*long_limits, 0.01), ax=graphs_hist[0])\n",
    "graphs_hist[0].set_xlim(long_limits)\n",
    "nyc.hist(\"Latitude\", bins=np.arange(*lat_limits, 0.01), ax=graphs_hist[1])\n",
    "graphs_hist[1].set_xlim(lat_limits)\n",
    "print(\"Standard deviation of Longitude: \", nyc.Longitude.std())\n",
    "print(\"Standard deviation of Latitude: \", nyc.Latitude.std())"
   ]
  },
  {
   "cell_type": "markdown",
   "metadata": {},
   "source": [
    "PCA is a matrix operation, and after transformation the data is normalized with a vector norm of 1, with distribution around 0. Below we shift and normalize the latitude and longitude data so it is in the same units as the post-transformation histogram."
   ]
  },
  {
   "cell_type": "code",
   "execution_count": null,
   "metadata": {
    "collapsed": false
   },
   "outputs": [],
   "source": [
    "# Normalize to compare with output of PCA transformation\n",
    "fig_var, graphs_var = plt.subplots(2, 1, sharex=True)\n",
    "\n",
    "temp = nyc.Longitude.dropna()\n",
    "temp -= temp.mean() \n",
    "nyc[\"lon_norm\"] = temp/np.linalg.norm(temp)\n",
    "temp = nyc.Latitude.dropna()\n",
    "temp -= temp.mean()\n",
    "nyc[\"lat_norm\"] = temp/np.linalg.norm(temp)\n",
    "\n",
    "nyc.hist(\"lon_norm\", bins=np.arange(-0.06, 0.07, 0.01), ax=graphs_var[0])\n",
    "nyc.hist(\"lat_norm\", bins=np.arange(-0.06, 0.07, 0.01), ax=graphs_var[1])\n",
    "\n",
    "print(nyc[\"lon_norm\"].std())\n",
    "print(nyc[\"lat_norm\"].std())"
   ]
  },
  {
   "cell_type": "markdown",
   "metadata": {},
   "source": [
    "## PCA\n",
    "Find the principal components of the 311 call dataset and draw the vector(s) on the scatter plots (you can choose to plot just the first component \"for v in pca.components\\_[:1]\" or both \"for v in pca.components\\_\". Note that the first principal component runs almost parallel to the avenues, along the length of the island."
   ]
  },
  {
   "cell_type": "code",
   "execution_count": null,
   "metadata": {
    "collapsed": false
   },
   "outputs": [],
   "source": [
    "pca = PCA(n_components=2) # initialize the object\n",
    "X = nyc[[\"Longitude\", \"Latitude\"]].dropna().as_matrix() # prepare the data matrix\n",
    "pca.fit(X) # do the transformation\n",
    "# Graph the output\n",
    "for ax in graphs:\n",
    "    for v in pca.components_[:1]:\n",
    "        ax.quiver(-74, 40.74, *v, scale=1.5, angles='xy', color=\"red\") # the length of the vector is inverse to the scale\n",
    "    ax.set_xlim(*long_limits)\n",
    "    ax.set_ylim(*lat_limits)\n",
    "fig"
   ]
  },
  {
   "cell_type": "markdown",
   "metadata": {},
   "source": [
    "Scatter plot the transformed data. Note that the first componenet in the PCA output contains most of the variability (runs along the length of the island).\n",
    "\n",
    "\n",
    "TODO: finish this note; make PCA graph have same range x & y; write one more note."
   ]
  },
  {
   "cell_type": "code",
   "execution_count": null,
   "metadata": {
    "collapsed": false
   },
   "outputs": [],
   "source": [
    "fig_pca, graph_pca = plt.subplots(1, 1)\n",
    "graph_pca.scatter(pca.fit_transform(X)[:,0], pca.fit_transform(X)[:,1])\n",
    "graph_pca.set_ylim(*graph_pca.get_xlim()) # make the y range equal to x range to show variance difference\n",
    "graph_pca.set_xlabel(\"PCA Component 1\")\n",
    "graph_pca.set_ylabel(\"PCA Component 2\")"
   ]
  },
  {
   "cell_type": "code",
   "execution_count": null,
   "metadata": {
    "collapsed": false
   },
   "outputs": [],
   "source": [
    "fig_pcahist, graph_pcahist = plt.subplots(1, 1)\n",
    "plt.hist(pca.fit_transform(X)[:,0], label=\"PCA Component 1\")\n",
    "plt.hist(pca.fit_transform(X)[:,1], label=\"PCA Component 2\")\n",
    "graph_pcahist.legend()\n",
    "print(\"Standard deviation along PCA Component 1: \", pca.fit_transform(X)[:,0].std())\n",
    "print(\"Standard deviation along PCA Component 2: \", pca.fit_transform(X)[:,1].std())\n",
    "print(\"PCA explained variance ratio for components [1, 2]: \", pca.explained_variance_ratio_)"
   ]
  },
  {
   "cell_type": "code",
   "execution_count": null,
   "metadata": {
    "collapsed": true
   },
   "outputs": [],
   "source": []
  }
 ],
 "metadata": {
  "kernelspec": {
   "display_name": "Python 3",
   "language": "python",
   "name": "python3"
  },
  "language_info": {
   "codemirror_mode": {
    "name": "ipython",
    "version": 3
   },
   "file_extension": ".py",
   "mimetype": "text/x-python",
   "name": "python",
   "nbconvert_exporter": "python",
   "pygments_lexer": "ipython3",
   "version": "3.5.2"
  }
 },
 "nbformat": 4,
 "nbformat_minor": 0
}
