{
 "cells": [
  {
   "cell_type": "markdown",
   "metadata": {},
   "source": [
    "# Load Data into Pandas DataFrame\n",
    "See [this](http://pandas.pydata.org/pandas-docs/stable/10min.html) quickstart guide to pandas to get started."
   ]
  },
  {
   "cell_type": "code",
   "execution_count": null,
   "metadata": {
    "collapsed": true
   },
   "outputs": [],
   "source": [
    "%matplotlib inline\n",
    "import pandas as pd\n",
    "import matplotlib.pyplot as plt"
   ]
  },
  {
   "cell_type": "markdown",
   "metadata": {},
   "source": [
    "Load in World Food Facts data to start working with pandas. View the Readme file to choose columns of interest. Avoid  columns 0, 3, 5, 27, and 36."
   ]
  },
  {
   "cell_type": "code",
   "execution_count": null,
   "metadata": {
    "collapsed": false
   },
   "outputs": [],
   "source": [
    "import os\n",
    "fname = os.path.join(\"world-food-facts\", \"FoodFacts.csv\")\n",
    "\n",
    "# load in a subset of columns\n",
    "columns_to_load = list(range(7,23)) + list(range(40,158))\n",
    "foodfacts = pd.read_csv(fname, usecols = columns_to_load)"
   ]
  },
  {
   "cell_type": "markdown",
   "metadata": {},
   "source": [
    "# Check that the data is loaded properly"
   ]
  },
  {
   "cell_type": "code",
   "execution_count": null,
   "metadata": {
    "collapsed": false
   },
   "outputs": [],
   "source": [
    "# view the dimensions of the dataframe\n",
    "foodfacts.shape"
   ]
  },
  {
   "cell_type": "code",
   "execution_count": null,
   "metadata": {
    "collapsed": false
   },
   "outputs": [],
   "source": [
    "# print first 10 rows\n",
    "foodfacts.head(10)"
   ]
  },
  {
   "cell_type": "code",
   "execution_count": null,
   "metadata": {
    "collapsed": false
   },
   "outputs": [],
   "source": [
    "# print last 10 rows\n",
    "foodfacts.tail(10)"
   ]
  },
  {
   "cell_type": "code",
   "execution_count": null,
   "metadata": {
    "collapsed": false
   },
   "outputs": [],
   "source": [
    "# print summary \n",
    "foodfacts.describe()"
   ]
  },
  {
   "cell_type": "markdown",
   "metadata": {},
   "source": [
    "# Select rows and columns"
   ]
  },
  {
   "cell_type": "code",
   "execution_count": null,
   "metadata": {
    "collapsed": false
   },
   "outputs": [],
   "source": [
    "# return a slice of the rows\n",
    "foodfacts.iloc[80:86]"
   ]
  },
  {
   "cell_type": "code",
   "execution_count": null,
   "metadata": {
    "collapsed": false
   },
   "outputs": [],
   "source": [
    "# return one row by index\n",
    "foodfacts.iloc[83]"
   ]
  },
  {
   "cell_type": "code",
   "execution_count": null,
   "metadata": {
    "collapsed": false
   },
   "outputs": [],
   "source": [
    "# choose particular rows and columns by number\n",
    "foodfacts.iloc[[83, 85],[0,2]]"
   ]
  },
  {
   "cell_type": "code",
   "execution_count": null,
   "metadata": {
    "collapsed": false
   },
   "outputs": [],
   "source": [
    "# select a single column\n",
    "foodfacts.product_name\n",
    "# or \n",
    "foodfacts[\"product_name\"]"
   ]
  },
  {
   "cell_type": "code",
   "execution_count": null,
   "metadata": {
    "collapsed": false
   },
   "outputs": [],
   "source": [
    "# return new data frame with only named columns \n",
    "foodfacts[['product_name', 'categories', 'serving_size', 'energy_100g']]"
   ]
  },
  {
   "cell_type": "code",
   "execution_count": null,
   "metadata": {
    "collapsed": true
   },
   "outputs": [],
   "source": [
    "# same as above, but now assign a name so we can use the returned dataframe\n",
    "foodfacts_energy = foodfacts[['product_name', 'categories', 'serving_size', 'energy_100g', 'energy_from_fat_100g']]"
   ]
  },
  {
   "cell_type": "code",
   "execution_count": null,
   "metadata": {
    "collapsed": false
   },
   "outputs": [],
   "source": [
    "# return a data frame with columns chosen by number\n",
    "foodfacts[[1,2,8]] # note that column numbers of data frame do not match original"
   ]
  },
  {
   "cell_type": "code",
   "execution_count": null,
   "metadata": {
    "collapsed": false
   },
   "outputs": [],
   "source": [
    "# subset rows by a variable value\n",
    "foodfacts_energy[foodfacts_energy.energy_100g > 0]"
   ]
  },
  {
   "cell_type": "code",
   "execution_count": null,
   "metadata": {
    "collapsed": false
   },
   "outputs": [],
   "source": [
    "# subset rows by a logical function of two variable values\n",
    "foodfacts_energy[(foodfacts_energy.energy_100g > 0) & (foodfacts_energy.energy_from_fat_100g > 0)]"
   ]
  },
  {
   "cell_type": "code",
   "execution_count": null,
   "metadata": {
    "collapsed": false
   },
   "outputs": [],
   "source": [
    "# sort the dataframe by a given column, highest value first\n",
    "foodfacts_energy.sort_values('energy_100g', ascending=False)"
   ]
  },
  {
   "cell_type": "markdown",
   "metadata": {},
   "source": [
    "# Graph the data"
   ]
  },
  {
   "cell_type": "code",
   "execution_count": null,
   "metadata": {
    "collapsed": false
   },
   "outputs": [],
   "source": [
    "# make a scatter plot\n",
    "foodfacts.plot(\"additives_n\", \"ingredients_that_may_be_from_palm_oil_n\", \"scatter\")\n",
    "plt.xlabel(\"additives\")\n",
    "plt.ylabel(\"ingredients that may be from palm oil\")\n",
    "xlim = plt.xlim(0,26)\n",
    "ylim = plt.ylim(0,7)"
   ]
  }
 ],
 "metadata": {
  "kernelspec": {
   "display_name": "Python 3",
   "language": "python",
   "name": "python3"
  },
  "language_info": {
   "codemirror_mode": {
    "name": "ipython",
    "version": 3
   },
   "file_extension": ".py",
   "mimetype": "text/x-python",
   "name": "python",
   "nbconvert_exporter": "python",
   "pygments_lexer": "ipython3",
   "version": "3.5.2"
  }
 },
 "nbformat": 4,
 "nbformat_minor": 0
}
