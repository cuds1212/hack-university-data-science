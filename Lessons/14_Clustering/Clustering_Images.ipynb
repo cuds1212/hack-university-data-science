{
 "cells": [
  {
   "cell_type": "code",
   "execution_count": null,
   "metadata": {
    "collapsed": true
   },
   "outputs": [],
   "source": [
    "%matplotlib inline\n",
    "import matplotlib.pyplot as plt\n",
    "import matplotlib.image as mpimg\n",
    "import numpy as np\n",
    "from sklearn.cluster import KMeans"
   ]
  },
  {
   "cell_type": "code",
   "execution_count": null,
   "metadata": {
    "collapsed": false
   },
   "outputs": [],
   "source": [
    "# Load and display image\n",
    "img = mpimg.imread(\"2014-05-20_Squirrel.jpg\")\n",
    "fig, ax = plt.subplots(figsize=(13, 8))\n",
    "ax.imshow(img)\n",
    "ax.axis('off')"
   ]
  },
  {
   "cell_type": "code",
   "execution_count": null,
   "metadata": {
    "collapsed": false
   },
   "outputs": [],
   "source": [
    "# Reduce number of colors using kmeans clustering\n",
    "k = 10\n",
    "pixels = [pixel for row in img for pixel in row]\n",
    "colorclusters = KMeans(n_clusters=k).fit(pixels)\n",
    "colors = colorclusters.cluster_centers_\n",
    "pixelcluster = colorclusters.predict(pixels)\n",
    "newimg = np.reshape([colors[p]/255 for p in pixelcluster], img.shape)\n",
    "fig, ax = plt.subplots(figsize=(13, 8))\n",
    "ax.imshow(newimg)\n",
    "ax.axis('off')"
   ]
  },
  {
   "cell_type": "code",
   "execution_count": null,
   "metadata": {
    "collapsed": false,
    "scrolled": true
   },
   "outputs": [],
   "source": [
    "# Find regions using kmeans clustering\n",
    "k = 25\n",
    "pixelregion = [np.append(pixel, [r,c]) for r, row in enumerate(img) for c, pixel in enumerate(row)]\n",
    "pixelclusters = KMeans(n_clusters=k).fit(pixelregion)\n",
    "colors = [c[:3] for c in pixelclusters.cluster_centers_]\n",
    "pixelcluster = pixelclusters.predict(pixelregion)\n",
    "newimg2 = np.reshape([colors[p]/255 for p in pixelcluster], img.shape)\n",
    "fig, ax = plt.subplots(figsize=(13, 8))\n",
    "ax.imshow(newimg2)\n",
    "ax.axis('off')"
   ]
  },
  {
   "cell_type": "markdown",
   "metadata": {},
   "source": [
    "### Suggested Exercise\n",
    "\n",
    "Why are the k-means cluster center colors so far from the true values? Make a 3D scatter plot of the pixel RGB values along with the cluster centers - does this provide any illumination to the problem?"
   ]
  },
  {
   "cell_type": "code",
   "execution_count": null,
   "metadata": {
    "collapsed": true
   },
   "outputs": [],
   "source": [
    "from mpl_toolkits.mplot3d import Axes3D\n",
    "from matplotlib import colors as pltcolors"
   ]
  },
  {
   "cell_type": "code",
   "execution_count": null,
   "metadata": {
    "collapsed": false
   },
   "outputs": [],
   "source": [
    "fig = plt.figure(figsize=(16,16))\n",
    "ax = fig.add_subplot(111, projection='3d')\n",
    "\n",
    "# Running this for all pixels will take a VERY, VERY long time. I don't know how long...I never let it finish.\n",
    "for color in pixels[1:1000]:\n",
    "    ax.scatter(*color, c=pltcolors.rgb2hex(color/255))\n",
    "for color in colors:\n",
    "    ax.scatter(*color, c=pltcolors.rgb2hex(color/255), marker='*', s=100)\n",
    "ax.set_xlabel('Red')\n",
    "ax.set_ylabel('Green')\n",
    "ax.set_zlabel('Blue')"
   ]
  },
  {
   "cell_type": "code",
   "execution_count": null,
   "metadata": {
    "collapsed": true
   },
   "outputs": [],
   "source": []
  }
 ],
 "metadata": {
  "kernelspec": {
   "display_name": "Python 3",
   "language": "python",
   "name": "python3"
  },
  "language_info": {
   "codemirror_mode": {
    "name": "ipython",
    "version": 3
   },
   "file_extension": ".py",
   "mimetype": "text/x-python",
   "name": "python",
   "nbconvert_exporter": "python",
   "pygments_lexer": "ipython3",
   "version": "3.5.2"
  }
 },
 "nbformat": 4,
 "nbformat_minor": 0
}
