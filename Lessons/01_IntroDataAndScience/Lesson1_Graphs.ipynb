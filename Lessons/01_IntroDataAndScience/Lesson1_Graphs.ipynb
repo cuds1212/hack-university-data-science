{
 "cells": [
  {
   "cell_type": "code",
   "execution_count": null,
   "metadata": {
    "collapsed": false
   },
   "outputs": [],
   "source": [
    "# show plots inline with code below\n",
    "%matplotlib inline \n",
    "\n",
    "import matplotlib.pyplot as plt\n",
    "import numpy as np\n",
    "\n",
    "from matplotlib import cm\n",
    "from matplotlib.ticker import LinearLocator, FormatStrFormatter\n"
   ]
  },
  {
   "cell_type": "markdown",
   "metadata": {},
   "source": [
    "# Scatter Plots\n",
    "Example from [matplotlib documentation](http://matplotlib.org/examples/shapes_and_collections/scatter_demo.html). "
   ]
  },
  {
   "cell_type": "code",
   "execution_count": null,
   "metadata": {
    "collapsed": false
   },
   "outputs": [],
   "source": [
    "# generate data to plot\n",
    "N = 50\n",
    "x = np.random.rand(N)\n",
    "y = np.random.rand(N)\n",
    "\n",
    "# create standard scatter plot\n",
    "plt.scatter(x,y)\n",
    "\n",
    "# uncomment below to create scatter plot with different colors and diameters for each point\n",
    "#colors = np.random.rand(N)\n",
    "#area = np.pi * (15 * np.random.rand(N))**2  # 0 to 15 point radiuses\n",
    "#plt.scatter(x, y, s=area, c=colors, alpha=0.5)\n"
   ]
  },
  {
   "cell_type": "markdown",
   "metadata": {},
   "source": [
    "# Box Chart\n",
    "Example from [matplotlib documenation](http://matplotlib.org/examples/pylab_examples/boxplot_demo.html)."
   ]
  },
  {
   "cell_type": "code",
   "execution_count": null,
   "metadata": {
    "collapsed": false
   },
   "outputs": [],
   "source": [
    "import matplotlib.pyplot as plt\n",
    "import numpy as np\n",
    "\n",
    "# fake up some data\n",
    "spread = np.random.rand(50) * 100\n",
    "center = np.ones(25) * 50\n",
    "flier_high = np.random.rand(10) * 100 + 100\n",
    "flier_low = np.random.rand(10) * -100\n",
    "data = np.concatenate((spread, center, flier_high, flier_low), 0)\n",
    "\n",
    "# basic plot\n",
    "plt.boxplot(data)\n",
    "\n",
    "# notched plot\n",
    "plt.figure()\n",
    "plt.boxplot(data, 1)\n",
    "\n",
    "# change outlier point symbols\n",
    "plt.figure()\n",
    "plt.boxplot(data, 0, 'gD')\n",
    "\n",
    "# don't show outlier points\n",
    "plt.figure()\n",
    "plt.boxplot(data, 0, '')\n",
    "\n",
    "# horizontal boxes\n",
    "plt.figure()\n",
    "plt.boxplot(data, 0, 'rs', 0)\n",
    "\n",
    "# change whisker length\n",
    "plt.figure()\n",
    "plt.boxplot(data, 0, 'rs', 0, 0.75)"
   ]
  },
  {
   "cell_type": "markdown",
   "metadata": {},
   "source": [
    "# Line Graph"
   ]
  },
  {
   "cell_type": "code",
   "execution_count": null,
   "metadata": {
    "collapsed": false
   },
   "outputs": [],
   "source": [
    "# generate function to plot\n",
    "t = np.arange(0.0, 5.0, 0.01)\n",
    "y = np.sin(np.pi*t)\n",
    "\n",
    "# create default line graph\n",
    "plt.plot(t, y)"
   ]
  },
  {
   "cell_type": "markdown",
   "metadata": {},
   "source": [
    "# Bar Chart\n",
    "Examples from matplotlib documentation: [bar](http://matplotlib.org/examples/api/barchart_demo.html) and [histogram](http://matplotlib.org/1.2.1/examples/pylab_examples/histogram_demo.html)"
   ]
  },
  {
   "cell_type": "code",
   "execution_count": null,
   "metadata": {
    "collapsed": false
   },
   "outputs": [],
   "source": [
    "\n",
    "N = 5\n",
    "menMeans = (20, 35, 30, 35, 27)\n",
    "menStd = (2, 3, 4, 1, 2)\n",
    "\n",
    "ind = np.arange(N)  # the x locations for the groups\n",
    "width = 0.35       # the width of the bars\n",
    "\n",
    "fig, ax = plt.subplots()\n",
    "rects1 = ax.bar(ind, menMeans, width, color='r', yerr=menStd)\n",
    "\n",
    "womenMeans = (25, 32, 34, 20, 25)\n",
    "womenStd = (3, 5, 2, 3, 3)\n",
    "rects2 = ax.bar(ind + width, womenMeans, width, color='y', yerr=womenStd)\n",
    "\n",
    "# add some text for labels, title and axes ticks\n",
    "ax.set_ylabel('Scores')\n",
    "ax.set_title('Scores by group and gender')\n",
    "ax.set_xticks(ind + width)\n",
    "ax.set_xticklabels(('G1', 'G2', 'G3', 'G4', 'G5'))\n",
    "\n",
    "ax.legend((rects1[0], rects2[0]), ('Men', 'Women'))\n",
    "\n",
    "\n",
    "def autolabel(rects):\n",
    "    # attach some text labels\n",
    "    for rect in rects:\n",
    "        height = rect.get_height()\n",
    "        ax.text(rect.get_x() + rect.get_width()/2., 1.05*height,\n",
    "                '%d' % int(height),\n",
    "                ha='center', va='bottom')\n",
    "\n",
    "autolabel(rects1)\n",
    "autolabel(rects2)"
   ]
  },
  {
   "cell_type": "code",
   "execution_count": null,
   "metadata": {
    "collapsed": false
   },
   "outputs": [],
   "source": [
    "# a histogram is a special class of bar chart\n",
    "\n",
    "mu, sigma = 100, 15\n",
    "x = mu + sigma*np.random.randn(10000)\n",
    "\n",
    "# the histogram of the data\n",
    "n, bins, patches = plt.hist(x, 50, normed=1, facecolor='green', alpha=0.75)\n",
    "\n",
    "\n",
    "plt.xlabel('Smarts')\n",
    "plt.ylabel('Probability')\n",
    "plt.title(r'$\\mathrm{Histogram\\ of\\ IQ:}\\ \\mu=100,\\ \\sigma=15$')\n",
    "plt.axis([40, 160, 0, 0.03])\n",
    "plt.grid(True)"
   ]
  },
  {
   "cell_type": "markdown",
   "metadata": {},
   "source": [
    "# Stacked Area Graph\n",
    "Super ugly examples from [matplotlib documentation](http://matplotlib.org/examples/pylab_examples/stackplot_demo.html). Exercise: implement a better color scheme."
   ]
  },
  {
   "cell_type": "code",
   "execution_count": null,
   "metadata": {
    "collapsed": false
   },
   "outputs": [],
   "source": [
    "def fnx():\n",
    "    return np.random.randint(5, 50, 10)\n",
    "\n",
    "y = np.row_stack((fnx(), fnx(), fnx()))\n",
    "x = np.arange(10)\n",
    "\n",
    "y1, y2, y3 = fnx(), fnx(), fnx()\n",
    "\n",
    "fig, ax = plt.subplots()\n",
    "ax.stackplot(x, y)\n",
    "plt.show()\n",
    "\n",
    "fig, ax = plt.subplots()\n",
    "ax.stackplot(x, y1, y2, y3)\n",
    "plt.show()"
   ]
  },
  {
   "cell_type": "markdown",
   "metadata": {},
   "source": [
    "# Three-dimensional plots\n",
    "\n",
    "Real-world data is multidimensional. Data with two independent variables can be visualized in a three dimensional plot, or projected onto two dimensions. Code below will show both visualizations. \n",
    "\n",
    "Four dimensions can be projected onto three dimensions similarly to how three dimensions can be projected onto two dimensions, using color gradients to show the magnitude of the dependent variable."
   ]
  },
  {
   "cell_type": "markdown",
   "metadata": {},
   "source": [
    "Choose a function from one of the next two cells."
   ]
  },
  {
   "cell_type": "code",
   "execution_count": null,
   "metadata": {
    "collapsed": true
   },
   "outputs": [],
   "source": [
    "# two variable function to plot\n",
    "def _surface(x, y):\n",
    "    r = np.sqrt(x**2 + y**2)\n",
    "    z = np.sin(r)\n",
    "    return z\n",
    "\n",
    "# vectorize the function to evaluate it on a grid\n",
    "surface = np.vectorize(_surface)\n",
    "\n",
    "# create grid of values to stand in for real data\n",
    "x = np.arange(-5, 5, 0.25)\n",
    "y = np.arange(-5, 5, 0.25)\n",
    "X, Y = np.meshgrid(x, y)\n",
    "Z = surface(X,Y)\n"
   ]
  },
  {
   "cell_type": "code",
   "execution_count": null,
   "metadata": {
    "collapsed": false
   },
   "outputs": [],
   "source": [
    "# a difference of two Gaussians\n",
    "import matplotlib.mlab as mlab\n",
    "\n",
    "delta = 0.025 # grid resolution\n",
    "x = np.arange(-3.0, 3.0, delta)\n",
    "y = np.arange(-2.0, 2.0, delta)\n",
    "X, Y = np.meshgrid(x, y)\n",
    "\n",
    "# first Gaussian\n",
    "sigma_x1 = 1.0\n",
    "sigma_y1 = 1.0\n",
    "mu_x1 = 0.0\n",
    "mu_y1 = 0.0\n",
    "Z1 = mlab.bivariate_normal(X, Y, sigma_x1, sigma_y1, mu_x1, mu_y1)\n",
    "\n",
    "# second Gaussian\n",
    "sigma_x2 = 1.5\n",
    "sigma_y2 = 0.5\n",
    "mu_x2 = 1\n",
    "mu_y2 =1\n",
    "Z2 = mlab.bivariate_normal(X, Y, sigma_x2, sigma_y2, mu_x2, mu_x2)\n",
    "\n",
    "# difference \n",
    "Z = Z2 - Z1"
   ]
  },
  {
   "cell_type": "markdown",
   "metadata": {},
   "source": [
    "## Three-dimensional surface plot\n",
    "Example from [matplotlib documentation](http://matplotlib.org/mpl_toolkits/mplot3d/tutorial.html#surface-plots). [See more 3D plots.](http://matplotlib.org/mpl_toolkits/mplot3d/tutorial.html)."
   ]
  },
  {
   "cell_type": "code",
   "execution_count": null,
   "metadata": {
    "collapsed": false
   },
   "outputs": [],
   "source": [
    "from mpl_toolkits.mplot3d import Axes3D\n",
    "\n",
    "# create the 3d surface plot\n",
    "fig_surface = plt.figure()\n",
    "graph_surface = fig_surface.gca(projection='3d')\n",
    "surf = graph_surface.plot_surface(X, Y, Z, rstride=1, cstride=1, cmap=cm.coolwarm, linewidth=0, antialiased=False)\n",
    "fig_surface.colorbar(surf, shrink=0.5, aspect=5)"
   ]
  },
  {
   "cell_type": "markdown",
   "metadata": {},
   "source": [
    "## Contour plot\n",
    "Show the same function as above as a contour plot, projecting the three dimensional plot onto two dimensions. The colors are the same as the surface above for easy comparison. The contours are specified by the \"levels\" variable."
   ]
  },
  {
   "cell_type": "code",
   "execution_count": null,
   "metadata": {
    "collapsed": false
   },
   "outputs": [],
   "source": [
    "limits = (-3, 3, -3, 3)\n",
    "im = plt.imshow(Z, interpolation='bilinear', origin='linear', cmap=cm.coolwarm, extent=limits)\n",
    "levels = np.arange(-1.2, 1.2, 0.02)\n",
    "contours = plt.contour(Z, levels, origin='lower', linewidths=2, extent=limits, colors='k' )"
   ]
  }
 ],
 "metadata": {
  "kernelspec": {
   "display_name": "Python 3",
   "language": "python",
   "name": "python3"
  },
  "language_info": {
   "codemirror_mode": {
    "name": "ipython",
    "version": 3
   },
   "file_extension": ".py",
   "mimetype": "text/x-python",
   "name": "python",
   "nbconvert_exporter": "python",
   "pygments_lexer": "ipython3",
   "version": "3.5.1"
  }
 },
 "nbformat": 4,
 "nbformat_minor": 0
}
